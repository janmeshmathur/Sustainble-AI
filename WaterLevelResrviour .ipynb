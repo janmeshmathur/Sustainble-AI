{
 "cells": [
  {
   "cell_type": "code",
   "execution_count": 2,
   "id": "3d487c65",
   "metadata": {},
   "outputs": [
    {
     "data": {
      "text/html": [
       "<div>\n",
       "<style scoped>\n",
       "    .dataframe tbody tr th:only-of-type {\n",
       "        vertical-align: middle;\n",
       "    }\n",
       "\n",
       "    .dataframe tbody tr th {\n",
       "        vertical-align: top;\n",
       "    }\n",
       "\n",
       "    .dataframe thead th {\n",
       "        text-align: right;\n",
       "    }\n",
       "</style>\n",
       "<table border=\"1\" class=\"dataframe\">\n",
       "  <thead>\n",
       "    <tr style=\"text-align: right;\">\n",
       "      <th></th>\n",
       "      <th>Date</th>\n",
       "      <th>POONDI</th>\n",
       "      <th>CHOLAVARAM</th>\n",
       "      <th>REDHILLS</th>\n",
       "      <th>CHEMBARAMBAKKAM</th>\n",
       "    </tr>\n",
       "  </thead>\n",
       "  <tbody>\n",
       "    <tr>\n",
       "      <th>0</th>\n",
       "      <td>01-01-2004</td>\n",
       "      <td>3.9</td>\n",
       "      <td>0.0</td>\n",
       "      <td>268.0</td>\n",
       "      <td>0.0</td>\n",
       "    </tr>\n",
       "    <tr>\n",
       "      <th>1</th>\n",
       "      <td>02-01-2004</td>\n",
       "      <td>3.9</td>\n",
       "      <td>0.0</td>\n",
       "      <td>268.0</td>\n",
       "      <td>0.0</td>\n",
       "    </tr>\n",
       "    <tr>\n",
       "      <th>2</th>\n",
       "      <td>03-01-2004</td>\n",
       "      <td>3.9</td>\n",
       "      <td>0.0</td>\n",
       "      <td>267.0</td>\n",
       "      <td>0.0</td>\n",
       "    </tr>\n",
       "    <tr>\n",
       "      <th>3</th>\n",
       "      <td>04-01-2004</td>\n",
       "      <td>3.9</td>\n",
       "      <td>0.0</td>\n",
       "      <td>267.0</td>\n",
       "      <td>0.0</td>\n",
       "    </tr>\n",
       "    <tr>\n",
       "      <th>4</th>\n",
       "      <td>05-01-2004</td>\n",
       "      <td>3.8</td>\n",
       "      <td>0.0</td>\n",
       "      <td>267.0</td>\n",
       "      <td>0.0</td>\n",
       "    </tr>\n",
       "    <tr>\n",
       "      <th>...</th>\n",
       "      <td>...</td>\n",
       "      <td>...</td>\n",
       "      <td>...</td>\n",
       "      <td>...</td>\n",
       "      <td>...</td>\n",
       "    </tr>\n",
       "    <tr>\n",
       "      <th>6177</th>\n",
       "      <td>29-11-2020</td>\n",
       "      <td>2814.0</td>\n",
       "      <td>403.0</td>\n",
       "      <td>2819.0</td>\n",
       "      <td>3120.0</td>\n",
       "    </tr>\n",
       "    <tr>\n",
       "      <th>6178</th>\n",
       "      <td>30-11-2020</td>\n",
       "      <td>2848.0</td>\n",
       "      <td>465.0</td>\n",
       "      <td>2833.0</td>\n",
       "      <td>3120.0</td>\n",
       "    </tr>\n",
       "    <tr>\n",
       "      <th>6179</th>\n",
       "      <td>01-12-2020</td>\n",
       "      <td>2902.0</td>\n",
       "      <td>504.0</td>\n",
       "      <td>2841.0</td>\n",
       "      <td>3123.0</td>\n",
       "    </tr>\n",
       "    <tr>\n",
       "      <th>6180</th>\n",
       "      <td>02-12-2020</td>\n",
       "      <td>2873.0</td>\n",
       "      <td>547.0</td>\n",
       "      <td>2847.0</td>\n",
       "      <td>3125.0</td>\n",
       "    </tr>\n",
       "    <tr>\n",
       "      <th>6181</th>\n",
       "      <td>03-12-2020</td>\n",
       "      <td>2867.0</td>\n",
       "      <td>590.0</td>\n",
       "      <td>2878.0</td>\n",
       "      <td>3137.0</td>\n",
       "    </tr>\n",
       "  </tbody>\n",
       "</table>\n",
       "<p>6182 rows × 5 columns</p>\n",
       "</div>"
      ],
      "text/plain": [
       "            Date  POONDI  CHOLAVARAM  REDHILLS  CHEMBARAMBAKKAM\n",
       "0     01-01-2004     3.9         0.0     268.0              0.0\n",
       "1     02-01-2004     3.9         0.0     268.0              0.0\n",
       "2     03-01-2004     3.9         0.0     267.0              0.0\n",
       "3     04-01-2004     3.9         0.0     267.0              0.0\n",
       "4     05-01-2004     3.8         0.0     267.0              0.0\n",
       "...          ...     ...         ...       ...              ...\n",
       "6177  29-11-2020  2814.0       403.0    2819.0           3120.0\n",
       "6178  30-11-2020  2848.0       465.0    2833.0           3120.0\n",
       "6179  01-12-2020  2902.0       504.0    2841.0           3123.0\n",
       "6180  02-12-2020  2873.0       547.0    2847.0           3125.0\n",
       "6181  03-12-2020  2867.0       590.0    2878.0           3137.0\n",
       "\n",
       "[6182 rows x 5 columns]"
      ]
     },
     "execution_count": 2,
     "metadata": {},
     "output_type": "execute_result"
    }
   ],
   "source": [
    "import warnings\n",
    "warnings.filterwarnings('ignore')\n",
    "import numpy as np\n",
    "import pandas as pd\n",
    "df = pd.read_csv('chennai_reservoir_levels.csv')\n",
    "df"
   ]
  },
  {
   "cell_type": "code",
   "execution_count": 2,
   "id": "814c95a7",
   "metadata": {},
   "outputs": [
    {
     "data": {
      "text/html": [
       "<div>\n",
       "<style scoped>\n",
       "    .dataframe tbody tr th:only-of-type {\n",
       "        vertical-align: middle;\n",
       "    }\n",
       "\n",
       "    .dataframe tbody tr th {\n",
       "        vertical-align: top;\n",
       "    }\n",
       "\n",
       "    .dataframe thead th {\n",
       "        text-align: right;\n",
       "    }\n",
       "</style>\n",
       "<table border=\"1\" class=\"dataframe\">\n",
       "  <thead>\n",
       "    <tr style=\"text-align: right;\">\n",
       "      <th></th>\n",
       "      <th>Date</th>\n",
       "      <th>POONDI</th>\n",
       "      <th>CHOLAVARAM</th>\n",
       "      <th>REDHILLS</th>\n",
       "      <th>CHEMBARAMBAKKAM</th>\n",
       "    </tr>\n",
       "  </thead>\n",
       "  <tbody>\n",
       "    <tr>\n",
       "      <th>0</th>\n",
       "      <td>01-01-2004</td>\n",
       "      <td>3.9</td>\n",
       "      <td>0.0</td>\n",
       "      <td>268.0</td>\n",
       "      <td>0.0</td>\n",
       "    </tr>\n",
       "    <tr>\n",
       "      <th>1</th>\n",
       "      <td>02-01-2004</td>\n",
       "      <td>3.9</td>\n",
       "      <td>0.0</td>\n",
       "      <td>268.0</td>\n",
       "      <td>0.0</td>\n",
       "    </tr>\n",
       "    <tr>\n",
       "      <th>2</th>\n",
       "      <td>03-01-2004</td>\n",
       "      <td>3.9</td>\n",
       "      <td>0.0</td>\n",
       "      <td>267.0</td>\n",
       "      <td>0.0</td>\n",
       "    </tr>\n",
       "    <tr>\n",
       "      <th>3</th>\n",
       "      <td>04-01-2004</td>\n",
       "      <td>3.9</td>\n",
       "      <td>0.0</td>\n",
       "      <td>267.0</td>\n",
       "      <td>0.0</td>\n",
       "    </tr>\n",
       "    <tr>\n",
       "      <th>4</th>\n",
       "      <td>05-01-2004</td>\n",
       "      <td>3.8</td>\n",
       "      <td>0.0</td>\n",
       "      <td>267.0</td>\n",
       "      <td>0.0</td>\n",
       "    </tr>\n",
       "  </tbody>\n",
       "</table>\n",
       "</div>"
      ],
      "text/plain": [
       "         Date  POONDI  CHOLAVARAM  REDHILLS  CHEMBARAMBAKKAM\n",
       "0  01-01-2004     3.9         0.0     268.0              0.0\n",
       "1  02-01-2004     3.9         0.0     268.0              0.0\n",
       "2  03-01-2004     3.9         0.0     267.0              0.0\n",
       "3  04-01-2004     3.9         0.0     267.0              0.0\n",
       "4  05-01-2004     3.8         0.0     267.0              0.0"
      ]
     },
     "execution_count": 2,
     "metadata": {},
     "output_type": "execute_result"
    }
   ],
   "source": [
    "df.head()"
   ]
  },
  {
   "cell_type": "code",
   "execution_count": 3,
   "id": "23a4a161",
   "metadata": {},
   "outputs": [
    {
     "data": {
      "text/html": [
       "<div>\n",
       "<style scoped>\n",
       "    .dataframe tbody tr th:only-of-type {\n",
       "        vertical-align: middle;\n",
       "    }\n",
       "\n",
       "    .dataframe tbody tr th {\n",
       "        vertical-align: top;\n",
       "    }\n",
       "\n",
       "    .dataframe thead th {\n",
       "        text-align: right;\n",
       "    }\n",
       "</style>\n",
       "<table border=\"1\" class=\"dataframe\">\n",
       "  <thead>\n",
       "    <tr style=\"text-align: right;\">\n",
       "      <th></th>\n",
       "      <th>Date</th>\n",
       "      <th>POONDI</th>\n",
       "      <th>CHOLAVARAM</th>\n",
       "      <th>REDHILLS</th>\n",
       "      <th>CHEMBARAMBAKKAM</th>\n",
       "    </tr>\n",
       "  </thead>\n",
       "  <tbody>\n",
       "    <tr>\n",
       "      <th>6177</th>\n",
       "      <td>29-11-2020</td>\n",
       "      <td>2814.0</td>\n",
       "      <td>403.0</td>\n",
       "      <td>2819.0</td>\n",
       "      <td>3120.0</td>\n",
       "    </tr>\n",
       "    <tr>\n",
       "      <th>6178</th>\n",
       "      <td>30-11-2020</td>\n",
       "      <td>2848.0</td>\n",
       "      <td>465.0</td>\n",
       "      <td>2833.0</td>\n",
       "      <td>3120.0</td>\n",
       "    </tr>\n",
       "    <tr>\n",
       "      <th>6179</th>\n",
       "      <td>01-12-2020</td>\n",
       "      <td>2902.0</td>\n",
       "      <td>504.0</td>\n",
       "      <td>2841.0</td>\n",
       "      <td>3123.0</td>\n",
       "    </tr>\n",
       "    <tr>\n",
       "      <th>6180</th>\n",
       "      <td>02-12-2020</td>\n",
       "      <td>2873.0</td>\n",
       "      <td>547.0</td>\n",
       "      <td>2847.0</td>\n",
       "      <td>3125.0</td>\n",
       "    </tr>\n",
       "    <tr>\n",
       "      <th>6181</th>\n",
       "      <td>03-12-2020</td>\n",
       "      <td>2867.0</td>\n",
       "      <td>590.0</td>\n",
       "      <td>2878.0</td>\n",
       "      <td>3137.0</td>\n",
       "    </tr>\n",
       "  </tbody>\n",
       "</table>\n",
       "</div>"
      ],
      "text/plain": [
       "            Date  POONDI  CHOLAVARAM  REDHILLS  CHEMBARAMBAKKAM\n",
       "6177  29-11-2020  2814.0       403.0    2819.0           3120.0\n",
       "6178  30-11-2020  2848.0       465.0    2833.0           3120.0\n",
       "6179  01-12-2020  2902.0       504.0    2841.0           3123.0\n",
       "6180  02-12-2020  2873.0       547.0    2847.0           3125.0\n",
       "6181  03-12-2020  2867.0       590.0    2878.0           3137.0"
      ]
     },
     "execution_count": 3,
     "metadata": {},
     "output_type": "execute_result"
    }
   ],
   "source": [
    "df.tail()"
   ]
  },
  {
   "cell_type": "code",
   "execution_count": 3,
   "id": "3b118558",
   "metadata": {
    "scrolled": true
   },
   "outputs": [
    {
     "data": {
      "text/html": [
       "<div>\n",
       "<style scoped>\n",
       "    .dataframe tbody tr th:only-of-type {\n",
       "        vertical-align: middle;\n",
       "    }\n",
       "\n",
       "    .dataframe tbody tr th {\n",
       "        vertical-align: top;\n",
       "    }\n",
       "\n",
       "    .dataframe thead th {\n",
       "        text-align: right;\n",
       "    }\n",
       "</style>\n",
       "<table border=\"1\" class=\"dataframe\">\n",
       "  <thead>\n",
       "    <tr style=\"text-align: right;\">\n",
       "      <th></th>\n",
       "      <th>POONDI</th>\n",
       "      <th>CHOLAVARAM</th>\n",
       "      <th>REDHILLS</th>\n",
       "      <th>CHEMBARAMBAKKAM</th>\n",
       "    </tr>\n",
       "    <tr>\n",
       "      <th>Date</th>\n",
       "      <th></th>\n",
       "      <th></th>\n",
       "      <th></th>\n",
       "      <th></th>\n",
       "    </tr>\n",
       "  </thead>\n",
       "  <tbody>\n",
       "    <tr>\n",
       "      <th>2004-01-01</th>\n",
       "      <td>3.9</td>\n",
       "      <td>0.0</td>\n",
       "      <td>268.0</td>\n",
       "      <td>0.0</td>\n",
       "    </tr>\n",
       "    <tr>\n",
       "      <th>2004-02-01</th>\n",
       "      <td>3.9</td>\n",
       "      <td>0.0</td>\n",
       "      <td>268.0</td>\n",
       "      <td>0.0</td>\n",
       "    </tr>\n",
       "    <tr>\n",
       "      <th>2004-03-01</th>\n",
       "      <td>3.9</td>\n",
       "      <td>0.0</td>\n",
       "      <td>267.0</td>\n",
       "      <td>0.0</td>\n",
       "    </tr>\n",
       "    <tr>\n",
       "      <th>2004-04-01</th>\n",
       "      <td>3.9</td>\n",
       "      <td>0.0</td>\n",
       "      <td>267.0</td>\n",
       "      <td>0.0</td>\n",
       "    </tr>\n",
       "    <tr>\n",
       "      <th>2004-05-01</th>\n",
       "      <td>3.8</td>\n",
       "      <td>0.0</td>\n",
       "      <td>267.0</td>\n",
       "      <td>0.0</td>\n",
       "    </tr>\n",
       "  </tbody>\n",
       "</table>\n",
       "</div>"
      ],
      "text/plain": [
       "            POONDI  CHOLAVARAM  REDHILLS  CHEMBARAMBAKKAM\n",
       "Date                                                     \n",
       "2004-01-01     3.9         0.0     268.0              0.0\n",
       "2004-02-01     3.9         0.0     268.0              0.0\n",
       "2004-03-01     3.9         0.0     267.0              0.0\n",
       "2004-04-01     3.9         0.0     267.0              0.0\n",
       "2004-05-01     3.8         0.0     267.0              0.0"
      ]
     },
     "execution_count": 3,
     "metadata": {},
     "output_type": "execute_result"
    }
   ],
   "source": [
    "df['Date'] = pd.to_datetime(df['Date'])\n",
    "df.set_index('Date', inplace=True) #set date as index\n",
    "df.head()"
   ]
  },
  {
   "cell_type": "code",
   "execution_count": 20,
   "id": "7f2430eb",
   "metadata": {
    "scrolled": true
   },
   "outputs": [
    {
     "data": {
      "text/plain": [
       "<AxesSubplot:xlabel='Date'>"
      ]
     },
     "execution_count": 20,
     "metadata": {},
     "output_type": "execute_result"
    },
    {
     "data": {
      "image/png": "[encoded data removed]",
      "text/plain": [
       "<Figure size 432x288 with 1 Axes>"
      ]
     },
     "metadata": {
      "needs_background": "light"
     },
     "output_type": "display_data"
    }
   ],
   "source": [
    "df.plot()"
   ]
  },
  {
   "cell_type": "code",
   "execution_count": 4,
   "id": "a81e249f",
   "metadata": {},
   "outputs": [],
   "source": [
    "from statsmodels.tsa.stattools import adfuller"
   ]
  },
  {
   "cell_type": "code",
   "execution_count": 5,
   "id": "454315e5",
   "metadata": {},
   "outputs": [],
   "source": [
    "test_result=adfuller(df['POONDI'])"
   ]
  },
  {
   "cell_type": "code",
   "execution_count": 6,
   "id": "c5b68c3e",
   "metadata": {},
   "outputs": [],
   "source": [
    "def adfuller_test(SubTotalThermal):\n",
    "    result=adfuller(SubTotalThermal)\n",
    "    labels = ['ADF Test Statistic','p-value', '#Lags Used', 'Number of observations Used']\n",
    "    for value, label in zip(result, labels):\n",
    "        print(label+' : '+str(value) )\n",
    "    if result[1] <= 0.05:\n",
    "        print(\"strong evidence against the null hypothesis (Ho), reject the null hypothesis.\")\n",
    "    else:\n",
    "        print(\"weak evidence against null hypothesis, time series has a unit root, indication\")"
   ]
  },
  {
   "cell_type": "code",
   "execution_count": 7,
   "id": "c3d017d7",
   "metadata": {
    "scrolled": true
   },
   "outputs": [
    {
     "name": "stdout",
     "output_type": "stream",
     "text": [
      "ADF Test Statistic : -3.949555265857682\n",
      "p-value : 0.0016989519693194478\n",
      "#Lags Used : 15\n",
      "Number of observations Used : 6166\n",
      "strong evidence against the null hypothesis (Ho), reject the null hypothesis.\n"
     ]
    }
   ],
   "source": [
    " adfuller_test(df['POONDI'])"
   ]
  },
  {
   "cell_type": "code",
   "execution_count": 8,
   "id": "083eb1f0",
   "metadata": {
    "scrolled": true
   },
   "outputs": [
    {
     "name": "stdout",
     "output_type": "stream",
     "text": [
      "Requirement already satisfied: pmdarima in c:\\users\\janme\\anaconda3\\lib\\site-packages (1.8.5)\n",
      "Requirement already satisfied: numpy>=1.19.3 in c:\\users\\janme\\anaconda3\\lib\\site-packages (from pmdarima) (1.20.3)\n",
      "Requirement already satisfied: urllib3 in c:\\users\\janme\\anaconda3\\lib\\site-packages (from pmdarima) (1.26.7)\n",
      "Requirement already satisfied: Cython!=0.29.18,>=0.29 in c:\\users\\janme\\anaconda3\\lib\\site-packages (from pmdarima) (0.29.24)\n",
      "Requirement already satisfied: setuptools!=50.0.0,>=38.6.0 in c:\\users\\janme\\anaconda3\\lib\\site-packages (from pmdarima) (58.0.4)\n",
      "Requirement already satisfied: joblib>=0.11 in c:\\users\\janme\\anaconda3\\lib\\site-packages (from pmdarima) (1.1.0)\n",
      "Requirement already satisfied: statsmodels!=0.12.0,>=0.11 in c:\\users\\janme\\anaconda3\\lib\\site-packages (from pmdarima) (0.12.2)\n",
      "Requirement already satisfied: scikit-learn>=0.22 in c:\\users\\janme\\anaconda3\\lib\\site-packages (from pmdarima) (0.24.2)\n",
      "Requirement already satisfied: scipy>=1.3.2 in c:\\users\\janme\\anaconda3\\lib\\site-packages (from pmdarima) (1.7.1)\n",
      "Requirement already satisfied: pandas>=0.19 in c:\\users\\janme\\anaconda3\\lib\\site-packages (from pmdarima) (1.3.4)\n",
      "Requirement already satisfied: python-dateutil>=2.7.3 in c:\\users\\janme\\anaconda3\\lib\\site-packages (from pandas>=0.19->pmdarima) (2.8.2)\n",
      "Requirement already satisfied: pytz>=2017.3 in c:\\users\\janme\\anaconda3\\lib\\site-packages (from pandas>=0.19->pmdarima) (2021.3)\n",
      "Requirement already satisfied: six>=1.5 in c:\\users\\janme\\anaconda3\\lib\\site-packages (from python-dateutil>=2.7.3->pandas>=0.19->pmdarima) (1.16.0)\n",
      "Requirement already satisfied: threadpoolctl>=2.0.0 in c:\\users\\janme\\anaconda3\\lib\\site-packages (from scikit-learn>=0.22->pmdarima) (2.2.0)\n",
      "Requirement already satisfied: patsy>=0.5 in c:\\users\\janme\\anaconda3\\lib\\site-packages (from statsmodels!=0.12.0,>=0.11->pmdarima) (0.5.2)\n"
     ]
    }
   ],
   "source": [
    "!pip install pmdarima\n"
   ]
  },
  {
   "cell_type": "code",
   "execution_count": 9,
   "id": "1db9bae5",
   "metadata": {},
   "outputs": [],
   "source": [
    "from pmdarima import auto_arima\n",
    "# Ignore harmless warnings\n",
    "import warnings\n",
    "warnings.filterwarnings(\"ignore\")"
   ]
  },
  {
   "cell_type": "code",
   "execution_count": 10,
   "id": "ad5ce6c4",
   "metadata": {},
   "outputs": [
    {
     "name": "stdout",
     "output_type": "stream",
     "text": [
      "Performing stepwise search to minimize aic\n",
      " ARIMA(2,1,2)(0,0,0)[0] intercept   : AIC=70677.939, Time=3.05 sec\n",
      " ARIMA(0,1,0)(0,0,0)[0] intercept   : AIC=71577.841, Time=0.11 sec\n",
      " ARIMA(1,1,0)(0,0,0)[0] intercept   : AIC=70931.953, Time=0.22 sec\n",
      " ARIMA(0,1,1)(0,0,0)[0] intercept   : AIC=70991.310, Time=0.73 sec\n",
      " ARIMA(0,1,0)(0,0,0)[0]             : AIC=71576.053, Time=0.05 sec\n",
      " ARIMA(1,1,2)(0,0,0)[0] intercept   : AIC=70678.474, Time=2.24 sec\n",
      " ARIMA(2,1,1)(0,0,0)[0] intercept   : AIC=70926.817, Time=1.65 sec\n",
      " ARIMA(3,1,2)(0,0,0)[0] intercept   : AIC=70679.931, Time=5.58 sec\n",
      " ARIMA(2,1,3)(0,0,0)[0] intercept   : AIC=70680.076, Time=6.90 sec\n",
      " ARIMA(1,1,1)(0,0,0)[0] intercept   : AIC=70930.874, Time=0.56 sec\n",
      " ARIMA(1,1,3)(0,0,0)[0] intercept   : AIC=70677.919, Time=3.48 sec\n",
      " ARIMA(0,1,3)(0,0,0)[0] intercept   : AIC=70855.154, Time=0.77 sec\n",
      " ARIMA(1,1,4)(0,0,0)[0] intercept   : AIC=70679.902, Time=4.83 sec\n",
      " ARIMA(0,1,2)(0,0,0)[0] intercept   : AIC=70899.146, Time=1.23 sec\n",
      " ARIMA(0,1,4)(0,0,0)[0] intercept   : AIC=70811.521, Time=0.83 sec\n",
      " ARIMA(2,1,4)(0,0,0)[0] intercept   : AIC=70681.858, Time=4.72 sec\n",
      " ARIMA(1,1,3)(0,0,0)[0]             : AIC=70676.093, Time=1.58 sec\n",
      " ARIMA(0,1,3)(0,0,0)[0]             : AIC=70853.489, Time=0.41 sec\n",
      " ARIMA(1,1,2)(0,0,0)[0]             : AIC=70676.652, Time=1.09 sec\n",
      " ARIMA(2,1,3)(0,0,0)[0]             : AIC=70678.101, Time=3.91 sec\n",
      " ARIMA(1,1,4)(0,0,0)[0]             : AIC=70678.076, Time=1.98 sec\n",
      " ARIMA(0,1,2)(0,0,0)[0]             : AIC=70897.569, Time=0.33 sec\n",
      " ARIMA(0,1,4)(0,0,0)[0]             : AIC=70809.828, Time=0.45 sec\n",
      " ARIMA(2,1,2)(0,0,0)[0]             : AIC=70676.114, Time=1.71 sec\n",
      " ARIMA(2,1,4)(0,0,0)[0]             : AIC=70680.032, Time=1.94 sec\n",
      "\n",
      "Best model:  ARIMA(1,1,3)(0,0,0)[0]          \n",
      "Total fit time: 50.377 seconds\n"
     ]
    },
    {
     "data": {
      "text/html": [
       "<table class=\"simpletable\">\n",
       "<caption>SARIMAX Results</caption>\n",
       "<tr>\n",
       "  <th>Dep. Variable:</th>           <td>y</td>        <th>  No. Observations:  </th>    <td>6182</td>   \n",
       "</tr>\n",
       "<tr>\n",
       "  <th>Model:</th>           <td>SARIMAX(1, 1, 3)</td> <th>  Log Likelihood     </th> <td>-35333.047</td>\n",
       "</tr>\n",
       "<tr>\n",
       "  <th>Date:</th>            <td>Mon, 11 Apr 2022</td> <th>  AIC                </th>  <td>70676.093</td>\n",
       "</tr>\n",
       "<tr>\n",
       "  <th>Time:</th>                <td>02:55:15</td>     <th>  BIC                </th>  <td>70709.740</td>\n",
       "</tr>\n",
       "<tr>\n",
       "  <th>Sample:</th>                  <td>0</td>        <th>  HQIC               </th>  <td>70687.760</td>\n",
       "</tr>\n",
       "<tr>\n",
       "  <th></th>                      <td> - 6182</td>     <th>                     </th>      <td> </td>    \n",
       "</tr>\n",
       "<tr>\n",
       "  <th>Covariance Type:</th>        <td>opg</td>       <th>                     </th>      <td> </td>    \n",
       "</tr>\n",
       "</table>\n",
       "<table class=\"simpletable\">\n",
       "<tr>\n",
       "     <td></td>       <th>coef</th>     <th>std err</th>      <th>z</th>      <th>P>|z|</th>  <th>[0.025</th>    <th>0.975]</th>  \n",
       "</tr>\n",
       "<tr>\n",
       "  <th>ar.L1</th>  <td>    0.9318</td> <td>    0.012</td> <td>   77.932</td> <td> 0.000</td> <td>    0.908</td> <td>    0.955</td>\n",
       "</tr>\n",
       "<tr>\n",
       "  <th>ma.L1</th>  <td>   -1.2923</td> <td>    0.012</td> <td> -107.739</td> <td> 0.000</td> <td>   -1.316</td> <td>   -1.269</td>\n",
       "</tr>\n",
       "<tr>\n",
       "  <th>ma.L2</th>  <td>    0.4181</td> <td>    0.005</td> <td>   88.039</td> <td> 0.000</td> <td>    0.409</td> <td>    0.427</td>\n",
       "</tr>\n",
       "<tr>\n",
       "  <th>ma.L3</th>  <td>   -0.0224</td> <td>    0.003</td> <td>   -7.044</td> <td> 0.000</td> <td>   -0.029</td> <td>   -0.016</td>\n",
       "</tr>\n",
       "<tr>\n",
       "  <th>sigma2</th> <td> 5403.4521</td> <td>    5.580</td> <td>  968.356</td> <td> 0.000</td> <td> 5392.516</td> <td> 5414.389</td>\n",
       "</tr>\n",
       "</table>\n",
       "<table class=\"simpletable\">\n",
       "<tr>\n",
       "  <th>Ljung-Box (L1) (Q):</th>     <td>0.00</td> <th>  Jarque-Bera (JB):  </th> <td>132149555.67</td>\n",
       "</tr>\n",
       "<tr>\n",
       "  <th>Prob(Q):</th>                <td>1.00</td> <th>  Prob(JB):          </th>     <td>0.00</td>    \n",
       "</tr>\n",
       "<tr>\n",
       "  <th>Heteroskedasticity (H):</th> <td>0.30</td> <th>  Skew:              </th>     <td>11.87</td>   \n",
       "</tr>\n",
       "<tr>\n",
       "  <th>Prob(H) (two-sided):</th>    <td>0.00</td> <th>  Kurtosis:          </th>    <td>718.93</td>   \n",
       "</tr>\n",
       "</table><br/><br/>Warnings:<br/>[1] Covariance matrix calculated using the outer product of gradients (complex-step)."
      ],
      "text/plain": [
       "<class 'statsmodels.iolib.summary.Summary'>\n",
       "\"\"\"\n",
       "                               SARIMAX Results                                \n",
       "==============================================================================\n",
       "Dep. Variable:                      y   No. Observations:                 6182\n",
       "Model:               SARIMAX(1, 1, 3)   Log Likelihood              -35333.047\n",
       "Date:                Mon, 11 Apr 2022   AIC                          70676.093\n",
       "Time:                        02:55:15   BIC                          70709.740\n",
       "Sample:                             0   HQIC                         70687.760\n",
       "                               - 6182                                         \n",
       "Covariance Type:                  opg                                         \n",
       "==============================================================================\n",
       "                 coef    std err          z      P>|z|      [0.025      0.975]\n",
       "------------------------------------------------------------------------------\n",
       "ar.L1          0.9318      0.012     77.932      0.000       0.908       0.955\n",
       "ma.L1         -1.2923      0.012   -107.739      0.000      -1.316      -1.269\n",
       "ma.L2          0.4181      0.005     88.039      0.000       0.409       0.427\n",
       "ma.L3         -0.0224      0.003     -7.044      0.000      -0.029      -0.016\n",
       "sigma2      5403.4521      5.580    968.356      0.000    5392.516    5414.389\n",
       "===================================================================================\n",
       "Ljung-Box (L1) (Q):                   0.00   Jarque-Bera (JB):         132149555.67\n",
       "Prob(Q):                              1.00   Prob(JB):                         0.00\n",
       "Heteroskedasticity (H):               0.30   Skew:                            11.87\n",
       "Prob(H) (two-sided):                  0.00   Kurtosis:                       718.93\n",
       "===================================================================================\n",
       "\n",
       "Warnings:\n",
       "[1] Covariance matrix calculated using the outer product of gradients (complex-step).\n",
       "\"\"\""
      ]
     },
     "execution_count": 10,
     "metadata": {},
     "output_type": "execute_result"
    }
   ],
   "source": [
    "stepwise_fit = auto_arima(df['POONDI'], trace=True,suppress_warnings=True)\n",
    "stepwise_fit.summary()"
   ]
  },
  {
   "cell_type": "code",
   "execution_count": 11,
   "id": "45a9a32a",
   "metadata": {},
   "outputs": [],
   "source": [
    "from statsmodels.tsa.arima_model import ARIMA\n"
   ]
  },
  {
   "cell_type": "code",
   "execution_count": 12,
   "id": "9e54294e",
   "metadata": {},
   "outputs": [
    {
     "name": "stdout",
     "output_type": "stream",
     "text": [
      "(6182, 4)\n",
      "(6152, 4) (30, 4)\n"
     ]
    }
   ],
   "source": [
    "print(df.shape)\n",
    "train=df.iloc[:-30]\n",
    "test=df.iloc[-30:]\n",
    "print(train.shape, test.shape)"
   ]
  },
  {
   "cell_type": "code",
   "execution_count": 14,
   "id": "e9ad90bb",
   "metadata": {},
   "outputs": [
    {
     "data": {
      "text/html": [
       "<table class=\"simpletable\">\n",
       "<caption>ARIMA Model Results</caption>\n",
       "<tr>\n",
       "  <th>Dep. Variable:</th>     <td>D.POONDI</td>     <th>  No. Observations:  </th>    <td>6151</td>   \n",
       "</tr>\n",
       "<tr>\n",
       "  <th>Model:</th>          <td>ARIMA(1, 1, 3)</td>  <th>  Log Likelihood     </th> <td>-35124.258</td>\n",
       "</tr>\n",
       "<tr>\n",
       "  <th>Method:</th>             <td>css-mle</td>     <th>  S.D. of innovations</th>   <td>73.066</td>  \n",
       "</tr>\n",
       "<tr>\n",
       "  <th>Date:</th>          <td>Mon, 11 Apr 2022</td> <th>  AIC                </th>  <td>70260.517</td>\n",
       "</tr>\n",
       "<tr>\n",
       "  <th>Time:</th>              <td>02:55:26</td>     <th>  BIC                </th>  <td>70300.863</td>\n",
       "</tr>\n",
       "<tr>\n",
       "  <th>Sample:</th>                <td>1</td>        <th>  HQIC               </th>  <td>70274.510</td>\n",
       "</tr>\n",
       "<tr>\n",
       "  <th></th>                       <td> </td>        <th>                     </th>      <td> </td>    \n",
       "</tr>\n",
       "</table>\n",
       "<table class=\"simpletable\">\n",
       "<tr>\n",
       "         <td></td>           <th>coef</th>     <th>std err</th>      <th>z</th>      <th>P>|z|</th>  <th>[0.025</th>    <th>0.975]</th>  \n",
       "</tr>\n",
       "<tr>\n",
       "  <th>const</th>          <td>    0.2615</td> <td>    1.377</td> <td>    0.190</td> <td> 0.849</td> <td>   -2.438</td> <td>    2.961</td>\n",
       "</tr>\n",
       "<tr>\n",
       "  <th>ar.L1.D.POONDI</th> <td>    0.9318</td> <td>    0.013</td> <td>   70.764</td> <td> 0.000</td> <td>    0.906</td> <td>    0.958</td>\n",
       "</tr>\n",
       "<tr>\n",
       "  <th>ma.L1.D.POONDI</th> <td>   -1.3043</td> <td>    0.018</td> <td>  -70.627</td> <td> 0.000</td> <td>   -1.341</td> <td>   -1.268</td>\n",
       "</tr>\n",
       "<tr>\n",
       "  <th>ma.L2.D.POONDI</th> <td>    0.4281</td> <td>    0.021</td> <td>   20.042</td> <td> 0.000</td> <td>    0.386</td> <td>    0.470</td>\n",
       "</tr>\n",
       "<tr>\n",
       "  <th>ma.L3.D.POONDI</th> <td>   -0.0228</td> <td>    0.014</td> <td>   -1.636</td> <td> 0.102</td> <td>   -0.050</td> <td>    0.005</td>\n",
       "</tr>\n",
       "</table>\n",
       "<table class=\"simpletable\">\n",
       "<caption>Roots</caption>\n",
       "<tr>\n",
       "    <td></td>   <th>            Real</th>  <th>         Imaginary</th> <th>         Modulus</th>  <th>        Frequency</th>\n",
       "</tr>\n",
       "<tr>\n",
       "  <th>AR.1</th> <td>           1.0732</td> <td>          +0.0000j</td> <td>           1.0732</td> <td>           0.0000</td>\n",
       "</tr>\n",
       "<tr>\n",
       "  <th>MA.1</th> <td>           1.2326</td> <td>          +0.0000j</td> <td>           1.2326</td> <td>           0.0000</td>\n",
       "</tr>\n",
       "<tr>\n",
       "  <th>MA.2</th> <td>           2.3402</td> <td>          +0.0000j</td> <td>           2.3402</td> <td>           0.0000</td>\n",
       "</tr>\n",
       "<tr>\n",
       "  <th>MA.3</th> <td>          15.2157</td> <td>          +0.0000j</td> <td>          15.2157</td> <td>           0.0000</td>\n",
       "</tr>\n",
       "</table>"
      ],
      "text/plain": [
       "<class 'statsmodels.iolib.summary.Summary'>\n",
       "\"\"\"\n",
       "                             ARIMA Model Results                              \n",
       "==============================================================================\n",
       "Dep. Variable:               D.POONDI   No. Observations:                 6151\n",
       "Model:                 ARIMA(1, 1, 3)   Log Likelihood              -35124.258\n",
       "Method:                       css-mle   S.D. of innovations             73.066\n",
       "Date:                Mon, 11 Apr 2022   AIC                          70260.517\n",
       "Time:                        02:55:26   BIC                          70300.863\n",
       "Sample:                             1   HQIC                         70274.510\n",
       "                                                                              \n",
       "==================================================================================\n",
       "                     coef    std err          z      P>|z|      [0.025      0.975]\n",
       "----------------------------------------------------------------------------------\n",
       "const              0.2615      1.377      0.190      0.849      -2.438       2.961\n",
       "ar.L1.D.POONDI     0.9318      0.013     70.764      0.000       0.906       0.958\n",
       "ma.L1.D.POONDI    -1.3043      0.018    -70.627      0.000      -1.341      -1.268\n",
       "ma.L2.D.POONDI     0.4281      0.021     20.042      0.000       0.386       0.470\n",
       "ma.L3.D.POONDI    -0.0228      0.014     -1.636      0.102      -0.050       0.005\n",
       "                                    Roots                                    \n",
       "=============================================================================\n",
       "                  Real          Imaginary           Modulus         Frequency\n",
       "-----------------------------------------------------------------------------\n",
       "AR.1            1.0732           +0.0000j            1.0732            0.0000\n",
       "MA.1            1.2326           +0.0000j            1.2326            0.0000\n",
       "MA.2            2.3402           +0.0000j            2.3402            0.0000\n",
       "MA.3           15.2157           +0.0000j           15.2157            0.0000\n",
       "-----------------------------------------------------------------------------\n",
       "\"\"\""
      ]
     },
     "execution_count": 14,
     "metadata": {},
     "output_type": "execute_result"
    }
   ],
   "source": [
    "model=ARIMA(train['POONDI'],order=(1,1,3))\n",
    "model=model.fit()\n",
    "model.summary()"
   ]
  },
  {
   "cell_type": "code",
   "execution_count": 15,
   "id": "70091728",
   "metadata": {},
   "outputs": [
    {
     "name": "stdout",
     "output_type": "stream",
     "text": [
      "Date\n",
      "2020-04-11    1543.124518\n",
      "2020-05-11    1547.712914\n",
      "2020-06-11    1552.450412\n",
      "2020-07-11    1556.882699\n",
      "2020-08-11    1561.030587\n",
      "2020-09-11    1564.913468\n",
      "2020-10-11    1568.549414\n",
      "2020-11-11    1571.955262\n",
      "2020-12-11    1575.146703\n",
      "2020-11-13    1578.138356\n",
      "2020-11-14    1580.943846\n",
      "2020-11-15    1583.575865\n",
      "2020-11-16    1586.046244\n",
      "2020-11-17    1588.366004\n",
      "2020-11-18    1590.545416\n",
      "2020-11-19    1592.594049\n",
      "2020-11-20    1594.520822\n",
      "2020-11-21    1596.334044\n",
      "2020-11-22    1598.041457\n",
      "2020-11-23    1599.650278\n",
      "2020-11-24    1601.167228\n",
      "2020-11-25    1602.598573\n",
      "2020-11-26    1603.950149\n",
      "2020-11-27    1605.227397\n",
      "2020-11-28    1606.435383\n",
      "2020-11-29    1607.578832\n",
      "2020-11-30    1608.662144\n",
      "2020-01-12    1609.689420\n",
      "2020-02-12    1610.664480\n",
      "2020-03-12    1611.590885\n",
      "dtype: float64\n"
     ]
    }
   ],
   "source": [
    "start=len(train)\n",
    "end=len(train)+len(test)-1\n",
    "pred=model.predict(start=start, end=end, typ='levels')\n",
    "\n",
    "pred.index=df.index[start:end+1]\n",
    "print(pred)"
   ]
  },
  {
   "cell_type": "code",
   "execution_count": 16,
   "id": "10e83e99",
   "metadata": {
    "scrolled": true
   },
   "outputs": [
    {
     "data": {
      "text/plain": [
       "<AxesSubplot:xlabel='Date'>"
      ]
     },
     "execution_count": 16,
     "metadata": {},
     "output_type": "execute_result"
    },
    {
     "data": {
      "image/png": "[encoded data removed]",
      "text/plain": [
       "<Figure size 432x288 with 1 Axes>"
      ]
     },
     "metadata": {
      "needs_background": "light"
     },
     "output_type": "display_data"
    }
   ],
   "source": [
    "pred.plot(legend=True)\n",
    "test['POONDI'].plot(legend=True)"
   ]
  },
  {
   "cell_type": "code",
   "execution_count": 17,
   "id": "b9feb5ae",
   "metadata": {},
   "outputs": [
    {
     "data": {
      "text/plain": [
       "1830.5666666666666"
      ]
     },
     "execution_count": 17,
     "metadata": {},
     "output_type": "execute_result"
    }
   ],
   "source": [
    "test['POONDI'].mean()"
   ]
  },
  {
   "cell_type": "code",
   "execution_count": 18,
   "id": "1f0bc37e",
   "metadata": {},
   "outputs": [
    {
     "name": "stdout",
     "output_type": "stream",
     "text": [
      "579.7435309601445\n"
     ]
    }
   ],
   "source": [
    "from sklearn.metrics import mean_squared_error\n",
    "from math import sqrt\n",
    "rmse=sqrt(mean_squared_error(pred, test['POONDI']))\n",
    "print(rmse)"
   ]
  },
  {
   "cell_type": "code",
   "execution_count": null,
   "id": "475a08fe",
   "metadata": {},
   "outputs": [],
   "source": []
  }
 ],
 "metadata": {
  "kernelspec": {
   "display_name": "Python 3 (ipykernel)",
   "language": "python",
   "name": "python3"
  },
  "language_info": {
   "codemirror_mode": {
    "name": "ipython",
    "version": 3
   },
   "file_extension": ".py",
   "mimetype": "text/x-python",
   "name": "python",
   "nbconvert_exporter": "python",
   "pygments_lexer": "ipython3",
   "version": "3.9.7"
  }
 },
 "nbformat": 4,
 "nbformat_minor": 5
}
